{
 "cells": [
  {
   "cell_type": "markdown",
   "source": [
    "---\r\n",
    "### Universidad de Costa Rica\r\n",
    "#### IE0405 - Modelos Probabilísticos de Señales y Sistemas\r\n",
    "---\r\n",
    "\r\n",
    "* **Subgrupo P5-22**\r\n",
    "* Estudiante 1: **Alfonso Castillo Orozco**\r\n",
    "* Carné: **B41546**\r\n",
    "* Grupo: **2**\r\n",
    "\r\n",
    "* Estudiante 2: **Jean Paul González Benavides**\r\n",
    "* Carné: **B83381**\r\n",
    "* Grupo: **2**\r\n",
    "\r\n",
    "* Estudiante 3: **Laura Mata Mata**\r\n",
    "* Carné: **B84689**\r\n",
    "* Grupo: **2**\r\n",
    "\r\n",
    "\r\n",
    "# `Proyecto 5` - *Procesos M/M/s*\r\n",
    "\r\n",
    "---"
   ],
   "metadata": {}
  },
  {
   "cell_type": "markdown",
   "source": [
    "## Asignaciones\r\n",
    "\r\n",
    "Es menester tomar una decisión con respecto al número de \"servidores\" necesarios para cierto proceso de vacunación, de forma tal que el sistema no exceda 100 personas en fila durante el 95% del tiempo de servicio. \r\n",
    "\r\n",
    "En un estudio de afluencia y del tiempo de servicio se asumen y determinan los siguientes parámetros:\r\n",
    "\r\n",
    "- La tasa de llegada $\\lambda$ es constante durante ocho horas de funcionamiento y tiene un valor de $\\lambda = 7$ personas por minuto.\r\n",
    "\r\n",
    "- La tasa de servicio $\\nu$ de cada \"servidor\" (es decir, personal de salud tomando datos y vacunando) es constante durante ocho horas de funcionamiento y tiene un valor de $\\nu = 0.25$ personas por minuto.\r\n",
    "\r\n",
    "Entonces,"
   ],
   "metadata": {}
  },
  {
   "cell_type": "markdown",
   "source": [
    "- (40%) Hacer la determinación teórica del número $s$ de servidores necesarios para cumplir el requisito.\r\n",
    "\r\n",
    Del enunciado, se dan los siguientes datos:

* El sistema no exceda 100 personas en fila durante el 95\% del tiempo del servicio.
* La tasa de llegada es  $\lambda=7$ personas por minuto y se mantiene constante durante 8 horas de funcionamiento.
* La tasa de servicio es $\nu=0.25$ personas por minuto y se mantiene constante durante 8 horas de funcionamiento.


La ecuación para calcular $\rho$ es la siguiente:
\begin{equation}
    \rho=\frac{\lambda}{s\cdot \nu}
\end{equation}

Ahora sustituyendo valores:
\begin{equation}
    \rho=\frac{7}{s\cdot 0.25}=\frac{28}{s}
    \label{1}
\end{equation}

Ahora, se va a partir de la suma de probabilidades del estado estable dado por el enunciado, y se va a considerar la condición de ruptura menor:

\begin{equation}
    P(\text{101 peronsa o más en la fila}1) = \sum_{i=101}^{\infty} (1 - \rho)\rho^{i}= 1 - \sum_{i=0}^{100} (1 - \rho)\rho^{i} = \rho^{101}
\end{equation}

Hay que recordar que, como hay un 95\% de que se mantenga una fila de 100 personas, hay un 5\% de que genera la condición de ruptura. Por lo que:
\begin{equation}
 \rho^{101}\leq 0.05
 \label{2}
\end{equation}

Sustituyendo \label{1} en \label{2}:
\begin{equation}
  \left(\frac{28}{s} \right)^{101}\leq 0.05  
\end{equation}

Ahora, se procede a despejar s:
\begin{equation*}
 \Longrightarrow  \left(\frac{28^{101}}{s^{101}} \right)\leq 0.05  
\end{equation*}

\begin{equation*}
  \Longrightarrow \left(\frac{28^{101}}{0.05} \right)\leq   s^{101}
\end{equation*}

\begin{equation*}
 \Longrightarrow  \left(\frac{28^{101}}{0.05} \right)\leq   s^{101}
\end{equation*}

\begin{equation*}
 \Longrightarrow \sqrt[101]{ \left(\frac{28^{101}}{0.05} \right)}\leq   s
\end{equation*}

\begin{equation*}
 \Longrightarrow 28\cdot\sqrt[101]{ \left(\frac{1}{0.05} \right)}\leq   s
\end{equation*}

\begin{equation}
 \Longrightarrow 28.843\leq   s
\end{equation}
 
 Por lo que, el número de servidores debe tener al menos 29 para se cumpla la condición del enunciado, que es mantener menos de 100 personas en la cola en 95\% del tiempo.    
   ],
   "metadata": {}
  },
  {
   "cell_type": "markdown",
   "source": [
    "- (60%) Modificar el código provisto para simular y corroborar el resultado anterior y crear al menos dos gráficas que muestren esta simulación."
   ],
   "metadata": {}
  },
  {
   "cell_type": "code",
   "execution_count": 1,
   "source": [
    "import numpy as np\r\n",
    "from scipy import stats\r\n",
    "import matplotlib.pyplot as plt\r\n",
    "\r\n",
    "# Número de clientes\r\n",
    "N = 1000\r\n",
    "\r\n",
    "# Parámetro de llegada (clientes/segundos)\r\n",
    "lam = 2/60\r\n",
    "\r\n",
    "# Parámetro de servicio (servicios/segundos)\r\n",
    "nu = 3/60\r\n",
    "\r\n",
    "# Distribución de los tiempos de llegada entre cada cliente\r\n",
    "X = stats.expon(scale = 1/lam)\r\n",
    "\r\n",
    "# Distribución de los tiempos de servicio a cada cliente\r\n",
    "Y = stats.expon(scale = 1/nu)\r\n",
    "\r\n",
    "# Intervalos entre llegadas (segundos desde último cliente)\r\n",
    "t_intervalos = np.ceil(X.rvs(N)).astype('int')\r\n",
    "\r\n",
    "# Tiempos de las llegadas (segundos desde el inicio)\r\n",
    "t_llegadas = [t_intervalos[0]]\r\n",
    "for i in range(1, len(t_intervalos)):\r\n",
    "    siguiente = t_llegadas[i-1] + t_intervalos[i]\r\n",
    "    t_llegadas.append(siguiente)\r\n",
    "\r\n",
    "# Tiempos de servicio (segundos desde inicio de servicio)\r\n",
    "t_servicio = np.ceil(Y.rvs(N)).astype('int')\r\n",
    "\r\n",
    "# Inicialización del tiempo de inicio y fin de atención\r\n",
    "inicio = t_llegadas[0]          # primera llegada\r\n",
    "fin = inicio + t_servicio[0]    # primera salida\r\n",
    "\r\n",
    "# Tiempos en que recibe atención cada i-ésimo cliente (!= que llega)\r\n",
    "t_atencion = [inicio]\r\n",
    "for i in range(1, N):\r\n",
    "    inicio = np.max((t_llegadas[i], fin))\r\n",
    "    fin = inicio + t_servicio[i]\r\n",
    "    t_atencion.append(inicio)\r\n",
    "\r\n",
    "# Inicialización del vector temporal para registrar eventos\r\n",
    "t = np.zeros(t_atencion[-1] + t_servicio[-1] + 1)\r\n",
    "\r\n",
    "# Asignación de eventos de llegada (+1) y salida (-1) de clientes\r\n",
    "for c in range(N):\r\n",
    "    i = t_llegadas[c]\r\n",
    "    t[i] += 1\r\n",
    "    j = t_atencion[c] + t_servicio[c]\r\n",
    "    t[j] -= 1\r\n",
    "\r\n",
    "# Umbral de P o más personas en sistema (hay P - 1 en fila)\r\n",
    "P = 5\r\n",
    "\r\n",
    "# Instantes (segundos) de tiempo con P o más solicitudes en sistema\r\n",
    "exceso = 0\r\n",
    "\r\n",
    "# Proceso aleatorio (estados n = {0, 1, 2...})\r\n",
    "Xt = np.zeros(t.shape)\r\n",
    "\r\n",
    "# Inicialización de estado n\r\n",
    "n = 0\r\n",
    "\r\n",
    "# Recorrido del vector temporal y conteo de clientes (estado n)\r\n",
    "for i, c in enumerate(t):\r\n",
    "    n += c # sumar (+1) o restar (-1) al estado\r\n",
    "    Xt[i] = n\r\n",
    "    if Xt[i] >= P: \r\n",
    "        exceso += 1\r\n",
    "\r\n",
    "# Fracción de tiempo con P o más solicitudes en sistema\r\n",
    "fraccion = exceso / len(t)\r\n",
    "\r\n",
    "# Resultados\r\n",
    "print('Parámetro lambda =', str(lam*60))\r\n",
    "print('Parámetro nu =', str(nu*60))\r\n",
    "print('Tiempo con más de {} solicitudes en fila:'.format(P-2))\r\n",
    "print('\\t {:0.2f}%'.format(100*fraccion))\r\n",
    "if fraccion <= 0.01:\r\n",
    "    print('\\t Sí cumple con la especificación.')\r\n",
    "else:\r\n",
    "    print('\\t No cumple con la especificación.') \r\n",
    "print('Simulación es equivalente a {:0.2f} horas.'.format(len(t)/3600))\r\n",
    "\r\n",
    "# Gráfica de X(t) (estados del sistema)\r\n",
    "plt.figure()\r\n",
    "plt.plot(Xt)\r\n",
    "plt.plot(range(len(t)), (P-1)*np.ones(t.shape))\r\n",
    "plt.legend(('$X(t) = n$', '$L_q = $' + str(P-2)))\r\n",
    "plt.ylabel('Clientes en el sistema, $n$')\r\n",
    "plt.xlabel('Tiempo, $t$ / segundos')\r\n",
    "plt.xlim((0, 5000))\r\n",
    "plt.show()"
   ],
   "outputs": [
    {
     "output_type": "stream",
     "name": "stdout",
     "text": [
      "Parámetro lambda = 2.0\n",
      "Parámetro nu = 3.0\n",
      "Tiempo con más de 3 solicitudes en fila:\n",
      "\t 21.01%\n",
      "\t No cumple con la especificación.\n",
      "Simulación es equivalente a 8.06 horas.\n"
     ]
    },
    {
     "output_type": "display_data",
     "data": {
      "text/plain": [
       "<Figure size 432x288 with 1 Axes>"
      ],
      "image/png": "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"
     },
     "metadata": {
      "needs_background": "light"
     }
    }
   ],
   "metadata": {}
  },
  {
   "cell_type": "markdown",
   "source": [
    "#### Sobre la presentación\r\n",
    "\r\n",
    "El trabajo debe entregarse como un *notebook* de Jupyter nuevo (sin incluir información de este enunciado), en la forma de reporte. La primera parte de las asignaciones debe ser desarrollada por completo y en orden, editando las ecuaciones en $\\LaTeX$. La segunda parte debe incluir el código desarrollado y sus resultados. Esto es enviado vía Mediación Virtual, uno por grupo."
   ],
   "metadata": {}
  },
  {
   "cell_type": "markdown",
   "source": [
    "---\n",
    "\n",
    "**Universidad de Costa Rica**\n",
    "\n",
    "Facultad de Ingeniería\n",
    "\n",
    "Escuela de Ingeniería Eléctrica\n",
    "\n",
    "---"
   ],
   "metadata": {}
  }
 ],
 "metadata": {
  "kernelspec": {
   "name": "python3",
   "display_name": "Python 3.9.4 64-bit"
  },
  "language_info": {
   "codemirror_mode": {
    "name": "ipython",
    "version": 3
   },
   "file_extension": ".py",
   "mimetype": "text/x-python",
   "name": "python",
   "nbconvert_exporter": "python",
   "pygments_lexer": "ipython3",
   "version": "3.9.4"
  },
  "interpreter": {
   "hash": "cf58552290663b9b8e2aa2d620c2f4ae71c9372ad064f292f2898c2d3c10a60a"
  }
 },
 "nbformat": 4,
 "nbformat_minor": 2
}
